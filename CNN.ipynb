{
 "cells": [
  {
   "cell_type": "code",
   "execution_count": 2,
   "metadata": {},
   "outputs": [],
   "source": [
    "import numpy as np\n",
    "import importlib \n",
    "import preprocessing\n",
    "importlib.reload(preprocessing)\n",
    "from preprocessing import *\n",
    "import warnings\n",
    "warnings.filterwarnings('ignore')\n",
    "import keras\n",
    "from keras.models import Sequential, model_from_json\n",
    "from keras.layers import Conv1D,Conv2D,MaxPooling1D,Flatten,Dense,Dropout,BatchNormalization, GRU, LSTM, RNN\n",
    "from keras import regularizers as reg"
   ]
  },
  {
   "cell_type": "code",
   "execution_count": 13,
   "metadata": {
    "collapsed": true
   },
   "outputs": [],
   "source": [
    "def cnn(conv_layers=3,conv_sizes=(64,128,256),filter_size=3, fc_layers=2,fc_sizes=(4096,2048),\n",
    "        dropout=0.5,pool_size=2,init='he_uniform',act='relu',optim='adam',pool=True,\n",
    "        reg = reg.l2(0.05)):\n",
    "\n",
    "    classifier = Sequential()\n",
    "    for i in range(conv_layers):\n",
    "        classifier.add(Conv1D(conv_sizes[i], filter_size, input_shape = X_train.shape[1:],\n",
    "                              activation = act,kernel_initializer=init,kernel_regularizer=reg))\n",
    "        classifier.add(BatchNormalization())\n",
    "        if pool:\n",
    "            classifier.add(MaxPooling1D(pool_size = 2))\n",
    "    classifier.add(Flatten())\n",
    "    for j in range(fc_layers):\n",
    "        classifier.add(Dense(fc_sizes[j], activation = act,kernel_initializer=init,kernel_regularizer=reg))\n",
    "        classifier.add(Dropout(dropout))\n",
    "    classifier.add(Dense(4, activation = 'softmax',kernel_initializer=init))\n",
    "    classifier.compile(optimizer = optim, loss = 'sparse_categorical_crossentropy', metrics = ['accuracy'])\n",
    "    classifier.fit(X_train, y_train, validation_data=(X_test,y_test),epochs=10,batch_size=64)"
   ]
  },
  {
   "cell_type": "code",
   "execution_count": 6,
   "metadata": {},
   "outputs": [
    {
     "name": "stdout",
     "output_type": "stream",
     "text": [
      "Train on 2508 samples, validate on 50 samples\n",
      "Epoch 1/10\n",
      "2508/2508 [==============================] - 44s 17ms/step - loss: 158.5555 - acc: 0.2775 - val_loss: 108.8778 - val_acc: 0.4200\n",
      "Epoch 2/10\n",
      "2508/2508 [==============================] - 45s 18ms/step - loss: 78.7335 - acc: 0.3130 - val_loss: 52.1910 - val_acc: 0.3800\n",
      "Epoch 3/10\n",
      "2508/2508 [==============================] - 48s 19ms/step - loss: 38.9754 - acc: 0.3884 - val_loss: 28.3719 - val_acc: 0.5200\n",
      "Epoch 4/10\n",
      "2508/2508 [==============================] - 52s 21ms/step - loss: 22.9242 - acc: 0.4430 - val_loss: 18.2501 - val_acc: 0.4200\n",
      "Epoch 5/10\n",
      "2508/2508 [==============================] - 49s 20ms/step - loss: 15.2853 - acc: 0.5307 - val_loss: 12.9705 - val_acc: 0.4600\n",
      "Epoch 6/10\n",
      "2508/2508 [==============================] - 51s 21ms/step - loss: 10.9946 - acc: 0.6156 - val_loss: 9.7280 - val_acc: 0.5000\n",
      "Epoch 7/10\n",
      "2508/2508 [==============================] - 48s 19ms/step - loss: 8.4629 - acc: 0.6754 - val_loss: 7.8667 - val_acc: 0.5600\n",
      "Epoch 8/10\n",
      "2508/2508 [==============================] - 52s 21ms/step - loss: 6.7793 - acc: 0.7006 - val_loss: 6.4555 - val_acc: 0.5400\n",
      "Epoch 9/10\n",
      "2508/2508 [==============================] - 51s 20ms/step - loss: 5.4675 - acc: 0.7145 - val_loss: 5.4108 - val_acc: 0.5400\n",
      "Epoch 10/10\n",
      "2508/2508 [==============================] - 50s 20ms/step - loss: 4.8782 - acc: 0.7125 - val_loss: 4.7498 - val_acc: 0.5600\n"
     ]
    }
   ],
   "source": [
    "X, y = import_data(every=False)\n",
    "X_train,X_test,y_train,y_test = train_test_subject(X, y)\n",
    "cnn(conv_layers=2,conv_sizes=(64,64),fc_layers=3,fc_sizes=(1024,512,256))"
   ]
  },
  {
   "cell_type": "code",
   "execution_count": 7,
   "metadata": {},
   "outputs": [
    {
     "name": "stdout",
     "output_type": "stream",
     "text": [
      "Train on 2508 samples, validate on 50 samples\n",
      "Epoch 1/10\n",
      "2508/2508 [==============================] - 82s 33ms/step - loss: 179.8960 - acc: 0.2687 - val_loss: 133.7861 - val_acc: 0.3400\n",
      "Epoch 2/10\n",
      "2508/2508 [==============================] - 77s 31ms/step - loss: 108.6502 - acc: 0.3329 - val_loss: 81.5719 - val_acc: 0.2600\n",
      "Epoch 3/10\n",
      "2508/2508 [==============================] - 81s 32ms/step - loss: 69.4206 - acc: 0.3345 - val_loss: 54.2010 - val_acc: 0.3400\n",
      "Epoch 4/10\n",
      "2508/2508 [==============================] - 81s 32ms/step - loss: 44.0824 - acc: 0.3828 - val_loss: 34.9560 - val_acc: 0.3800\n",
      "Epoch 5/10\n",
      "2508/2508 [==============================] - 75s 30ms/step - loss: 30.0703 - acc: 0.4163 - val_loss: 25.7494 - val_acc: 0.4400\n",
      "Epoch 6/10\n",
      "2508/2508 [==============================] - 76s 30ms/step - loss: 22.8578 - acc: 0.5191 - val_loss: 20.6468 - val_acc: 0.3600\n",
      "Epoch 7/10\n",
      "2508/2508 [==============================] - 75s 30ms/step - loss: 18.6083 - acc: 0.5742 - val_loss: 16.8763 - val_acc: 0.4200\n",
      "Epoch 8/10\n",
      "2508/2508 [==============================] - 74s 30ms/step - loss: 15.1170 - acc: 0.6188 - val_loss: 14.3454 - val_acc: 0.2400\n",
      "Epoch 9/10\n",
      "2508/2508 [==============================] - 75s 30ms/step - loss: 12.6927 - acc: 0.6503 - val_loss: 12.0923 - val_acc: 0.3000\n",
      "Epoch 10/10\n",
      "2508/2508 [==============================] - 75s 30ms/step - loss: 11.0163 - acc: 0.6639 - val_loss: 10.3749 - val_acc: 0.4400\n"
     ]
    }
   ],
   "source": [
    "X, y = import_data(every=False)\n",
    "X_train,X_test,y_train,y_test = train_test_subject(X, y)\n",
    "cnn(conv_layers=2,conv_sizes=(64,128),fc_layers=3,fc_sizes=(1024,512,256))"
   ]
  },
  {
   "cell_type": "code",
   "execution_count": 8,
   "metadata": {},
   "outputs": [
    {
     "name": "stdout",
     "output_type": "stream",
     "text": [
      "Train on 2508 samples, validate on 50 samples\n",
      "Epoch 1/10\n",
      "2508/2508 [==============================] - 88s 35ms/step - loss: 180.9439 - acc: 0.3002 - val_loss: 135.7623 - val_acc: 0.5000\n",
      "Epoch 2/10\n",
      "2508/2508 [==============================] - 76s 30ms/step - loss: 108.8248 - acc: 0.4326 - val_loss: 80.3751 - val_acc: 0.5800\n",
      "Epoch 3/10\n",
      "2508/2508 [==============================] - 76s 30ms/step - loss: 65.9916 - acc: 0.5263 - val_loss: 50.8818 - val_acc: 0.6000\n",
      "Epoch 4/10\n",
      "2508/2508 [==============================] - 77s 31ms/step - loss: 41.3049 - acc: 0.6013 - val_loss: 33.5433 - val_acc: 0.6400\n",
      "Epoch 5/10\n",
      "2508/2508 [==============================] - 75s 30ms/step - loss: 28.8892 - acc: 0.6639 - val_loss: 25.1781 - val_acc: 0.5600\n",
      "Epoch 6/10\n",
      "2508/2508 [==============================] - 75s 30ms/step - loss: 22.0951 - acc: 0.7293 - val_loss: 19.6131 - val_acc: 0.5400\n",
      "Epoch 7/10\n",
      "2508/2508 [==============================] - 75s 30ms/step - loss: 16.9329 - acc: 0.7663 - val_loss: 15.5828 - val_acc: 0.4800\n",
      "Epoch 8/10\n",
      "2508/2508 [==============================] - 75s 30ms/step - loss: 13.7772 - acc: 0.7667 - val_loss: 12.5981 - val_acc: 0.5400\n",
      "Epoch 9/10\n",
      "2508/2508 [==============================] - 75s 30ms/step - loss: 11.2023 - acc: 0.7628 - val_loss: 10.5641 - val_acc: 0.4800\n",
      "Epoch 10/10\n",
      "2508/2508 [==============================] - 75s 30ms/step - loss: 9.1354 - acc: 0.7915 - val_loss: 8.6004 - val_acc: 0.6000\n"
     ]
    }
   ],
   "source": [
    "X, y = import_data(every=True)\n",
    "X_train,X_test,y_train,y_test = train_test_subject(X, y)\n",
    "cnn(conv_layers=2,conv_sizes=(64,128),fc_layers=3,fc_sizes=(1024,512,256))"
   ]
  },
  {
   "cell_type": "code",
   "execution_count": 10,
   "metadata": {},
   "outputs": [
    {
     "name": "stdout",
     "output_type": "stream",
     "text": [
      "Train on 2508 samples, validate on 50 samples\n",
      "Epoch 1/10\n",
      "2508/2508 [==============================] - 100s 40ms/step - loss: 194.1973 - acc: 0.2763 - val_loss: 140.4282 - val_acc: 0.3200\n",
      "Epoch 2/10\n",
      "2508/2508 [==============================] - 95s 38ms/step - loss: 114.7411 - acc: 0.2891 - val_loss: 85.1232 - val_acc: 0.3000\n",
      "Epoch 3/10\n",
      "2508/2508 [==============================] - 101s 40ms/step - loss: 74.8019 - acc: 0.2891 - val_loss: 55.5518 - val_acc: 0.3600\n",
      "Epoch 4/10\n",
      "2508/2508 [==============================] - 97s 39ms/step - loss: 48.6001 - acc: 0.2608 - val_loss: 38.2331 - val_acc: 0.2400\n",
      "Epoch 5/10\n",
      "2508/2508 [==============================] - 96s 38ms/step - loss: 31.9864 - acc: 0.2600 - val_loss: 26.0713 - val_acc: 0.1600\n",
      "Epoch 6/10\n",
      "2508/2508 [==============================] - 100s 40ms/step - loss: 22.7332 - acc: 0.2847 - val_loss: 19.7055 - val_acc: 0.1800\n",
      "Epoch 7/10\n",
      "2508/2508 [==============================] - 97s 39ms/step - loss: 17.7525 - acc: 0.3226 - val_loss: 15.7427 - val_acc: 0.2400\n",
      "Epoch 8/10\n",
      "2508/2508 [==============================] - 96s 38ms/step - loss: 14.5708 - acc: 0.3832 - val_loss: 13.4199 - val_acc: 0.2400\n",
      "Epoch 9/10\n",
      "2508/2508 [==============================] - 96s 38ms/step - loss: 12.4207 - acc: 0.4226 - val_loss: 11.3703 - val_acc: 0.2600\n",
      "Epoch 10/10\n",
      "2508/2508 [==============================] - 98s 39ms/step - loss: 10.6539 - acc: 0.4773 - val_loss: 9.6470 - val_acc: 0.3200\n"
     ]
    }
   ],
   "source": [
    "X, y = import_data(every=False)\n",
    "X_train,X_test,y_train,y_test = train_test_subject(X, y)\n",
    "cnn(conv_layers=3,conv_sizes=(64,128,256),fc_layers=3,fc_sizes=(1024,512,256))"
   ]
  },
  {
   "cell_type": "code",
   "execution_count": 11,
   "metadata": {},
   "outputs": [
    {
     "name": "stdout",
     "output_type": "stream",
     "text": [
      "Train on 2508 samples, validate on 50 samples\n",
      "Epoch 1/10\n",
      "2508/2508 [==============================] - 47s 19ms/step - loss: 159.9225 - acc: 0.2707 - val_loss: 112.6519 - val_acc: 0.3600\n",
      "Epoch 2/10\n",
      "2508/2508 [==============================] - 45s 18ms/step - loss: 82.3820 - acc: 0.3242 - val_loss: 55.2994 - val_acc: 0.3600\n",
      "Epoch 3/10\n",
      "2508/2508 [==============================] - 45s 18ms/step - loss: 41.6067 - acc: 0.3700 - val_loss: 30.4180 - val_acc: 0.3200\n",
      "Epoch 4/10\n",
      "2508/2508 [==============================] - 45s 18ms/step - loss: 24.4766 - acc: 0.4394 - val_loss: 19.4561 - val_acc: 0.3200\n",
      "Epoch 5/10\n",
      "2508/2508 [==============================] - 46s 18ms/step - loss: 16.3552 - acc: 0.4936 - val_loss: 13.7823 - val_acc: 0.4600\n",
      "Epoch 6/10\n",
      "2508/2508 [==============================] - 46s 18ms/step - loss: 11.7640 - acc: 0.5869 - val_loss: 10.3010 - val_acc: 0.4800\n",
      "Epoch 7/10\n",
      "2508/2508 [==============================] - 46s 18ms/step - loss: 8.9055 - acc: 0.6507 - val_loss: 8.2243 - val_acc: 0.4400\n",
      "Epoch 8/10\n",
      "2508/2508 [==============================] - 45s 18ms/step - loss: 6.9909 - acc: 0.7030 - val_loss: 6.7749 - val_acc: 0.4800\n",
      "Epoch 9/10\n",
      "2508/2508 [==============================] - 46s 19ms/step - loss: 5.8279 - acc: 0.7261 - val_loss: 5.8224 - val_acc: 0.3600\n",
      "Epoch 10/10\n",
      "2508/2508 [==============================] - 47s 19ms/step - loss: 5.0402 - acc: 0.7189 - val_loss: 4.8410 - val_acc: 0.6400\n"
     ]
    }
   ],
   "source": [
    "X, y = import_data(every=False)\n",
    "X_train,X_test,y_train,y_test = train_test_total(X, y)\n",
    "cnn(conv_layers=2,conv_sizes=(64,64),fc_layers=3,fc_sizes=(1024,512,256))"
   ]
  },
  {
   "cell_type": "code",
   "execution_count": 12,
   "metadata": {},
   "outputs": [
    {
     "name": "stdout",
     "output_type": "stream",
     "text": [
      "Train on 2508 samples, validate on 50 samples\n",
      "Epoch 1/10\n",
      "2508/2508 [==============================] - 49s 19ms/step - loss: 162.2662 - acc: 0.2795 - val_loss: 116.0613 - val_acc: 0.4200\n",
      "Epoch 2/10\n",
      "2508/2508 [==============================] - 45s 18ms/step - loss: 86.2183 - acc: 0.3070 - val_loss: 58.8661 - val_acc: 0.4400\n",
      "Epoch 3/10\n",
      "2508/2508 [==============================] - 45s 18ms/step - loss: 44.7519 - acc: 0.3688 - val_loss: 33.0477 - val_acc: 0.4000\n",
      "Epoch 4/10\n",
      "2508/2508 [==============================] - 45s 18ms/step - loss: 26.8329 - acc: 0.4474 - val_loss: 21.5491 - val_acc: 0.3600\n",
      "Epoch 5/10\n",
      "2508/2508 [==============================] - 45s 18ms/step - loss: 18.0558 - acc: 0.5614 - val_loss: 15.3544 - val_acc: 0.4400\n",
      "Epoch 6/10\n",
      "2508/2508 [==============================] - 45s 18ms/step - loss: 13.2460 - acc: 0.6495 - val_loss: 11.7798 - val_acc: 0.3200\n",
      "Epoch 7/10\n",
      "2508/2508 [==============================] - 45s 18ms/step - loss: 10.1065 - acc: 0.7137 - val_loss: 9.5340 - val_acc: 0.3400\n",
      "Epoch 8/10\n",
      "2508/2508 [==============================] - 45s 18ms/step - loss: 7.9471 - acc: 0.7265 - val_loss: 7.6334 - val_acc: 0.5000\n",
      "Epoch 9/10\n",
      "2508/2508 [==============================] - 45s 18ms/step - loss: 6.4991 - acc: 0.7464 - val_loss: 6.5244 - val_acc: 0.5200\n",
      "Epoch 10/10\n",
      "2508/2508 [==============================] - 45s 18ms/step - loss: 5.5821 - acc: 0.7380 - val_loss: 5.7396 - val_acc: 0.3800\n"
     ]
    }
   ],
   "source": [
    "X, y = import_data(every=False)\n",
    "X_train,X_test,y_train,y_test = train_test_subject(X, y)\n",
    "cnn(conv_layers=2,conv_sizes=(64,64),fc_layers=3,fc_sizes=(1024,512,256))"
   ]
  },
  {
   "cell_type": "code",
   "execution_count": 13,
   "metadata": {},
   "outputs": [
    {
     "name": "stdout",
     "output_type": "stream",
     "text": [
      "Train on 237 samples, validate on 50 samples\n",
      "Epoch 1/10\n",
      "237/237 [==============================] - 7s 30ms/step - loss: 194.7505 - acc: 0.2700 - val_loss: 189.7929 - val_acc: 0.2800\n",
      "Epoch 2/10\n",
      "237/237 [==============================] - 5s 19ms/step - loss: 188.8520 - acc: 0.4346 - val_loss: 183.7737 - val_acc: 0.3400\n",
      "Epoch 3/10\n",
      "237/237 [==============================] - 5s 19ms/step - loss: 182.9034 - acc: 0.4852 - val_loss: 175.9697 - val_acc: 0.3200\n",
      "Epoch 4/10\n",
      "237/237 [==============================] - 5s 19ms/step - loss: 174.8185 - acc: 0.4768 - val_loss: 167.5815 - val_acc: 0.3400\n",
      "Epoch 5/10\n",
      "237/237 [==============================] - 5s 20ms/step - loss: 166.4372 - acc: 0.5232 - val_loss: 159.2646 - val_acc: 0.4000\n",
      "Epoch 6/10\n",
      "237/237 [==============================] - 5s 19ms/step - loss: 158.0532 - acc: 0.5274 - val_loss: 150.7661 - val_acc: 0.3600\n",
      "Epoch 7/10\n",
      "237/237 [==============================] - 5s 20ms/step - loss: 148.8037 - acc: 0.5907 - val_loss: 142.1756 - val_acc: 0.4000\n",
      "Epoch 8/10\n",
      "237/237 [==============================] - 5s 20ms/step - loss: 139.3689 - acc: 0.6582 - val_loss: 134.2730 - val_acc: 0.3600\n",
      "Epoch 9/10\n",
      "237/237 [==============================] - 5s 19ms/step - loss: 131.3150 - acc: 0.6329 - val_loss: 125.8055 - val_acc: 0.3800\n",
      "Epoch 10/10\n",
      "237/237 [==============================] - 5s 19ms/step - loss: 122.6920 - acc: 0.7342 - val_loss: 117.7679 - val_acc: 0.4200\n"
     ]
    }
   ],
   "source": [
    "X, y = import_data(every=False)\n",
    "X_train,X_test,y_train,y_test = train_test_subject(X, y, train_all=False)\n",
    "cnn(conv_layers=2,conv_sizes=(64,64),fc_layers=3,fc_sizes=(1024,512,256))"
   ]
  },
  {
   "cell_type": "code",
   "execution_count": 14,
   "metadata": {},
   "outputs": [
    {
     "name": "stdout",
     "output_type": "stream",
     "text": [
      "Train on 2508 samples, validate on 50 samples\n",
      "Epoch 1/10\n",
      "2508/2508 [==============================] - 48s 19ms/step - loss: 116.8633 - acc: 0.2811 - val_loss: 52.4488 - val_acc: 0.3000\n",
      "Epoch 2/10\n",
      "2508/2508 [==============================] - 45s 18ms/step - loss: 34.0075 - acc: 0.4717 - val_loss: 21.8247 - val_acc: 0.4800\n",
      "Epoch 3/10\n",
      "2508/2508 [==============================] - 45s 18ms/step - loss: 16.5873 - acc: 0.5435 - val_loss: 12.4133 - val_acc: 0.4200\n",
      "Epoch 4/10\n",
      "2508/2508 [==============================] - 45s 18ms/step - loss: 9.8543 - acc: 0.6212 - val_loss: 8.2341 - val_acc: 0.3000\n",
      "Epoch 5/10\n",
      "2508/2508 [==============================] - 45s 18ms/step - loss: 6.6221 - acc: 0.6535 - val_loss: 5.9402 - val_acc: 0.3800\n",
      "Epoch 6/10\n",
      "2508/2508 [==============================] - 44s 17ms/step - loss: 4.7191 - acc: 0.6910 - val_loss: 4.5729 - val_acc: 0.4800\n",
      "Epoch 7/10\n",
      "2508/2508 [==============================] - 44s 17ms/step - loss: 3.6591 - acc: 0.7141 - val_loss: 3.7711 - val_acc: 0.5000\n",
      "Epoch 8/10\n",
      "2508/2508 [==============================] - 44s 18ms/step - loss: 2.9433 - acc: 0.7592 - val_loss: 3.2823 - val_acc: 0.4000\n",
      "Epoch 9/10\n",
      "2508/2508 [==============================] - 44s 17ms/step - loss: 2.5455 - acc: 0.7679 - val_loss: 2.9648 - val_acc: 0.4000\n",
      "Epoch 10/10\n",
      "2508/2508 [==============================] - 44s 17ms/step - loss: 2.2566 - acc: 0.7831 - val_loss: 2.6525 - val_acc: 0.5200\n"
     ]
    }
   ],
   "source": [
    "X, y = import_data(every=False)\n",
    "X_train,X_test,y_train,y_test = train_test_total(X, y)\n",
    "cnn(conv_layers=2,conv_sizes=(64,64),fc_layers=3,fc_sizes=(1024,512,256),dropout=0.1)"
   ]
  },
  {
   "cell_type": "code",
   "execution_count": 15,
   "metadata": {},
   "outputs": [
    {
     "name": "stdout",
     "output_type": "stream",
     "text": [
      "Train on 2508 samples, validate on 50 samples\n",
      "Epoch 1/10\n",
      "2508/2508 [==============================] - 47s 19ms/step - loss: 144.8812 - acc: 0.2544 - val_loss: 116.8221 - val_acc: 0.2000\n",
      "Epoch 2/10\n",
      "2508/2508 [==============================] - 44s 18ms/step - loss: 111.2850 - acc: 0.2604 - val_loss: 98.6314 - val_acc: 0.2000\n",
      "Epoch 3/10\n",
      "2508/2508 [==============================] - 44s 17ms/step - loss: 92.6991 - acc: 0.2472 - val_loss: 83.3472 - val_acc: 0.2000\n",
      "Epoch 4/10\n",
      "2508/2508 [==============================] - 44s 18ms/step - loss: 78.4153 - acc: 0.2604 - val_loss: 73.1038 - val_acc: 0.2000\n",
      "Epoch 5/10\n",
      "2508/2508 [==============================] - 44s 17ms/step - loss: 69.7744 - acc: 0.2528 - val_loss: 61.4926 - val_acc: 0.2200\n",
      "Epoch 6/10\n",
      "2508/2508 [==============================] - 44s 17ms/step - loss: 65.2892 - acc: 0.2588 - val_loss: 61.6339 - val_acc: 0.2000\n",
      "Epoch 7/10\n",
      "2508/2508 [==============================] - 44s 17ms/step - loss: 65.2287 - acc: 0.2520 - val_loss: 64.9013 - val_acc: 0.2000\n",
      "Epoch 8/10\n",
      "2508/2508 [==============================] - 44s 17ms/step - loss: 63.7688 - acc: 0.2632 - val_loss: 60.4523 - val_acc: 0.2000\n",
      "Epoch 9/10\n",
      "2508/2508 [==============================] - 44s 17ms/step - loss: 61.8752 - acc: 0.2456 - val_loss: 53.6039 - val_acc: 0.2400\n",
      "Epoch 10/10\n",
      "2508/2508 [==============================] - 43s 17ms/step - loss: 61.7971 - acc: 0.2476 - val_loss: 56.0630 - val_acc: 0.2400\n"
     ]
    }
   ],
   "source": [
    "X, y = import_data(every=False)\n",
    "X_train,X_test,y_train,y_test = train_test_total(X, y)\n",
    "cnn(conv_layers=2,conv_sizes=(64,64),fc_layers=3,fc_sizes=(1024,512,256),dropout=0.9)"
   ]
  },
  {
   "cell_type": "code",
   "execution_count": 16,
   "metadata": {},
   "outputs": [
    {
     "name": "stdout",
     "output_type": "stream",
     "text": [
      "Train on 2508 samples, validate on 50 samples\n",
      "Epoch 1/10\n",
      "2508/2508 [==============================] - 138s 55ms/step - loss: 207.7946 - acc: 0.2699 - val_loss: 182.2633 - val_acc: 0.1800\n",
      "Epoch 2/10\n",
      "2508/2508 [==============================] - 115s 46ms/step - loss: 158.2318 - acc: 0.3329 - val_loss: 127.0504 - val_acc: 0.3600\n",
      "Epoch 3/10\n",
      "2508/2508 [==============================] - 114s 45ms/step - loss: 104.6675 - acc: 0.3389 - val_loss: 76.5370 - val_acc: 0.2800\n",
      "Epoch 4/10\n",
      "2508/2508 [==============================] - 114s 45ms/step - loss: 59.0766 - acc: 0.3700 - val_loss: 44.9630 - val_acc: 0.3000\n",
      "Epoch 5/10\n",
      "2508/2508 [==============================] - 113s 45ms/step - loss: 38.2590 - acc: 0.4434 - val_loss: 32.3452 - val_acc: 0.3000\n",
      "Epoch 6/10\n",
      "2508/2508 [==============================] - 114s 45ms/step - loss: 28.8875 - acc: 0.5319 - val_loss: 25.7201 - val_acc: 0.3800\n",
      "Epoch 7/10\n",
      "2508/2508 [==============================] - 113s 45ms/step - loss: 23.4759 - acc: 0.6164 - val_loss: 21.3410 - val_acc: 0.3200\n",
      "Epoch 8/10\n",
      "2508/2508 [==============================] - 114s 45ms/step - loss: 19.5194 - acc: 0.6834 - val_loss: 17.9620 - val_acc: 0.3000\n",
      "Epoch 9/10\n",
      "2508/2508 [==============================] - 116s 46ms/step - loss: 16.3396 - acc: 0.7137 - val_loss: 15.3968 - val_acc: 0.3600\n",
      "Epoch 10/10\n",
      "2508/2508 [==============================] - 113s 45ms/step - loss: 13.4592 - acc: 0.7309 - val_loss: 12.6325 - val_acc: 0.5000\n"
     ]
    }
   ],
   "source": [
    "X, y = import_data(every=False)\n",
    "X_train,X_test,y_train,y_test = train_test_total(X, y)\n",
    "cnn(conv_layers=2,conv_sizes=(64,64),fc_layers=3,fc_sizes=(1024,512,256),pool=False)"
   ]
  },
  {
   "cell_type": "code",
   "execution_count": 17,
   "metadata": {},
   "outputs": [
    {
     "name": "stdout",
     "output_type": "stream",
     "text": [
      "Train on 2508 samples, validate on 50 samples\n",
      "Epoch 1/10\n",
      "2508/2508 [==============================] - 49s 20ms/step - loss: 114.9106 - acc: 0.2807 - val_loss: 51.3049 - val_acc: 0.3200\n",
      "Epoch 2/10\n",
      "2508/2508 [==============================] - 44s 17ms/step - loss: 34.8338 - acc: 0.3206 - val_loss: 23.3295 - val_acc: 0.2400\n",
      "Epoch 3/10\n",
      "2508/2508 [==============================] - 44s 17ms/step - loss: 17.0160 - acc: 0.4031 - val_loss: 12.0474 - val_acc: 0.3800\n",
      "Epoch 4/10\n",
      "2508/2508 [==============================] - 44s 18ms/step - loss: 9.2830 - acc: 0.4769 - val_loss: 6.7985 - val_acc: 0.4400\n",
      "Epoch 5/10\n",
      "2508/2508 [==============================] - 44s 17ms/step - loss: 5.4594 - acc: 0.5327 - val_loss: 4.4768 - val_acc: 0.6000\n",
      "Epoch 6/10\n",
      "2508/2508 [==============================] - 44s 18ms/step - loss: 3.7812 - acc: 0.5443 - val_loss: 3.3764 - val_acc: 0.4800\n",
      "Epoch 7/10\n",
      "2508/2508 [==============================] - 44s 18ms/step - loss: 3.0634 - acc: 0.5343 - val_loss: 2.6439 - val_acc: 0.6600\n",
      "Epoch 8/10\n",
      "2508/2508 [==============================] - 44s 18ms/step - loss: 2.7166 - acc: 0.5399 - val_loss: 2.5926 - val_acc: 0.4800\n",
      "Epoch 9/10\n",
      "2508/2508 [==============================] - 44s 17ms/step - loss: 2.6111 - acc: 0.5311 - val_loss: 2.5235 - val_acc: 0.5200\n",
      "Epoch 10/10\n",
      "2508/2508 [==============================] - 44s 18ms/step - loss: 2.5679 - acc: 0.5163 - val_loss: 2.4540 - val_acc: 0.4400\n"
     ]
    }
   ],
   "source": [
    "X, y = import_data(every=False)\n",
    "X_train,X_test,y_train,y_test = train_test_total(X, y)\n",
    "cnn(conv_layers=2,conv_sizes=(64,64),fc_layers=3,fc_sizes=(1024,512,256),act='tanh')"
   ]
  },
  {
   "cell_type": "code",
   "execution_count": 19,
   "metadata": {},
   "outputs": [
    {
     "name": "stdout",
     "output_type": "stream",
     "text": [
      "Train on 2508 samples, validate on 50 samples\n",
      "Epoch 1/10\n",
      "2508/2508 [==============================] - 47s 19ms/step - loss: 159.5693 - acc: 0.2731 - val_loss: 109.8854 - val_acc: 0.3400\n",
      "Epoch 2/10\n",
      "2508/2508 [==============================] - 41s 16ms/step - loss: 81.8013 - acc: 0.2867 - val_loss: 56.1252 - val_acc: 0.3200\n",
      "Epoch 3/10\n",
      "2508/2508 [==============================] - 41s 16ms/step - loss: 42.8351 - acc: 0.3537 - val_loss: 31.7339 - val_acc: 0.3400\n",
      "Epoch 4/10\n",
      "2508/2508 [==============================] - 41s 16ms/step - loss: 25.8128 - acc: 0.4011 - val_loss: 20.6861 - val_acc: 0.3200\n",
      "Epoch 5/10\n",
      "2508/2508 [==============================] - 44s 18ms/step - loss: 17.4036 - acc: 0.4705 - val_loss: 14.6507 - val_acc: 0.4000\n",
      "Epoch 6/10\n",
      "2508/2508 [==============================] - 45s 18ms/step - loss: 12.5484 - acc: 0.5578 - val_loss: 11.1175 - val_acc: 0.2800\n",
      "Epoch 7/10\n",
      "2508/2508 [==============================] - 45s 18ms/step - loss: 9.4960 - acc: 0.6144 - val_loss: 8.7254 - val_acc: 0.4200\n",
      "Epoch 8/10\n",
      "2508/2508 [==============================] - 44s 18ms/step - loss: 7.4147 - acc: 0.6814 - val_loss: 7.1474 - val_acc: 0.4400\n",
      "Epoch 9/10\n",
      "2508/2508 [==============================] - 48s 19ms/step - loss: 6.1509 - acc: 0.7085 - val_loss: 6.0868 - val_acc: 0.4600\n",
      "Epoch 10/10\n",
      "2508/2508 [==============================] - 49s 19ms/step - loss: 5.2030 - acc: 0.7173 - val_loss: 5.2742 - val_acc: 0.4800\n"
     ]
    }
   ],
   "source": [
    "X, y = import_data(every=False)\n",
    "X_train,X_test,y_train,y_test = train_test_total(X, y,standardize=False)\n",
    "cnn(conv_layers=2,conv_sizes=(64,64),fc_layers=3,fc_sizes=(1024,512,256))"
   ]
  },
  {
   "cell_type": "code",
   "execution_count": 21,
   "metadata": {},
   "outputs": [
    {
     "name": "stdout",
     "output_type": "stream",
     "text": [
      "Train on 2508 samples, validate on 50 samples\n",
      "Epoch 1/10\n",
      "2508/2508 [==============================] - 46s 19ms/step - loss: 158.8487 - acc: 0.2675 - val_loss: 109.3959 - val_acc: 0.2600\n",
      "Epoch 2/10\n",
      "2508/2508 [==============================] - 43s 17ms/step - loss: 81.1990 - acc: 0.3010 - val_loss: 55.6765 - val_acc: 0.4200\n",
      "Epoch 3/10\n",
      "2508/2508 [==============================] - 44s 18ms/step - loss: 42.8910 - acc: 0.3250 - val_loss: 32.0296 - val_acc: 0.3600\n",
      "Epoch 4/10\n",
      "2508/2508 [==============================] - 45s 18ms/step - loss: 26.2434 - acc: 0.3541 - val_loss: 21.1594 - val_acc: 0.2600\n",
      "Epoch 5/10\n",
      "2508/2508 [==============================] - 45s 18ms/step - loss: 17.9581 - acc: 0.4043 - val_loss: 15.0345 - val_acc: 0.2800\n",
      "Epoch 6/10\n",
      "2508/2508 [==============================] - 46s 18ms/step - loss: 12.9795 - acc: 0.4928 - val_loss: 11.2873 - val_acc: 0.3400\n",
      "Epoch 7/10\n",
      "2508/2508 [==============================] - 46s 18ms/step - loss: 9.8094 - acc: 0.5690 - val_loss: 8.8523 - val_acc: 0.5800\n",
      "Epoch 8/10\n",
      "2508/2508 [==============================] - 45s 18ms/step - loss: 7.6971 - acc: 0.6312 - val_loss: 7.1508 - val_acc: 0.5000\n",
      "Epoch 9/10\n",
      "2508/2508 [==============================] - 46s 18ms/step - loss: 6.2818 - acc: 0.6495 - val_loss: 6.1152 - val_acc: 0.3600\n",
      "Epoch 10/10\n",
      "2508/2508 [==============================] - 46s 18ms/step - loss: 5.5470 - acc: 0.6663 - val_loss: 5.3959 - val_acc: 0.4600\n"
     ]
    }
   ],
   "source": [
    "X, y = import_data(every=False)\n",
    "X_train,X_test,y_train,y_test = train_test_subject(X, y,standardize=False)\n",
    "cnn(conv_layers=2,conv_sizes=(64,64),fc_layers=3,fc_sizes=(1024,512,256))"
   ]
  },
  {
   "cell_type": "code",
   "execution_count": 22,
   "metadata": {},
   "outputs": [
    {
     "name": "stdout",
     "output_type": "stream",
     "text": [
      "Train on 2508 samples, validate on 50 samples\n",
      "Epoch 1/10\n",
      "2508/2508 [==============================] - 36s 14ms/step - loss: 78.3927 - acc: 0.2811 - val_loss: 54.1971 - val_acc: 0.4200\n",
      "Epoch 2/10\n",
      "2508/2508 [==============================] - 32s 13ms/step - loss: 39.9695 - acc: 0.4139 - val_loss: 28.1317 - val_acc: 0.3400\n",
      "Epoch 3/10\n",
      "2508/2508 [==============================] - 32s 13ms/step - loss: 21.9524 - acc: 0.5187 - val_loss: 17.0331 - val_acc: 0.3800\n",
      "Epoch 4/10\n",
      "2508/2508 [==============================] - 32s 13ms/step - loss: 13.8422 - acc: 0.6184 - val_loss: 11.5305 - val_acc: 0.4600\n",
      "Epoch 5/10\n",
      "2508/2508 [==============================] - 32s 13ms/step - loss: 9.5428 - acc: 0.7069 - val_loss: 8.4462 - val_acc: 0.4800\n",
      "Epoch 6/10\n",
      "2508/2508 [==============================] - 32s 13ms/step - loss: 7.1167 - acc: 0.7428 - val_loss: 6.9248 - val_acc: 0.2800\n",
      "Epoch 7/10\n",
      "2508/2508 [==============================] - 32s 13ms/step - loss: 5.6396 - acc: 0.7400 - val_loss: 5.4393 - val_acc: 0.5200\n",
      "Epoch 8/10\n",
      "2508/2508 [==============================] - 32s 13ms/step - loss: 4.5846 - acc: 0.7667 - val_loss: 4.9503 - val_acc: 0.5000\n",
      "Epoch 9/10\n",
      "2508/2508 [==============================] - 32s 13ms/step - loss: 3.9130 - acc: 0.7787 - val_loss: 4.1064 - val_acc: 0.4800\n",
      "Epoch 10/10\n",
      "2508/2508 [==============================] - 32s 13ms/step - loss: 3.6139 - acc: 0.7847 - val_loss: 3.9356 - val_acc: 0.4800\n"
     ]
    }
   ],
   "source": [
    "X, y = import_data(every=False)\n",
    "X_train,X_test,y_train,y_test = train_test_total(X, y)\n",
    "cnn(conv_layers=3,conv_sizes=(64,64,64),fc_layers=2,fc_sizes=(512,256))"
   ]
  },
  {
   "cell_type": "code",
   "execution_count": 23,
   "metadata": {},
   "outputs": [
    {
     "name": "stdout",
     "output_type": "stream",
     "text": [
      "Train on 2508 samples, validate on 50 samples\n",
      "Epoch 1/10\n",
      "2508/2508 [==============================] - 19s 7ms/step - loss: 69.7520 - acc: 0.2592 - val_loss: 47.7798 - val_acc: 0.4200\n",
      "Epoch 2/10\n",
      "2508/2508 [==============================] - 15s 6ms/step - loss: 34.3703 - acc: 0.3991 - val_loss: 23.0490 - val_acc: 0.5200\n",
      "Epoch 3/10\n",
      "2508/2508 [==============================] - 15s 6ms/step - loss: 17.5111 - acc: 0.5096 - val_loss: 12.9686 - val_acc: 0.6600\n",
      "Epoch 4/10\n",
      "2508/2508 [==============================] - 15s 6ms/step - loss: 10.7004 - acc: 0.5758 - val_loss: 8.8348 - val_acc: 0.5400\n",
      "Epoch 5/10\n",
      "2508/2508 [==============================] - 15s 6ms/step - loss: 7.4597 - acc: 0.6655 - val_loss: 6.5786 - val_acc: 0.6200\n",
      "Epoch 6/10\n",
      "2508/2508 [==============================] - 15s 6ms/step - loss: 5.7169 - acc: 0.7117 - val_loss: 5.2592 - val_acc: 0.6800\n",
      "Epoch 7/10\n",
      "2508/2508 [==============================] - 15s 6ms/step - loss: 4.5384 - acc: 0.7532 - val_loss: 4.5031 - val_acc: 0.6400\n",
      "Epoch 8/10\n",
      "2508/2508 [==============================] - 15s 6ms/step - loss: 3.8459 - acc: 0.7863 - val_loss: 4.0596 - val_acc: 0.5800\n",
      "Epoch 9/10\n",
      "2508/2508 [==============================] - 15s 6ms/step - loss: 3.4261 - acc: 0.7815 - val_loss: 3.7449 - val_acc: 0.5400\n",
      "Epoch 10/10\n",
      "2508/2508 [==============================] - 15s 6ms/step - loss: 2.9780 - acc: 0.8230 - val_loss: 3.2491 - val_acc: 0.6800\n"
     ]
    }
   ],
   "source": [
    "X, y = import_data(every=False)\n",
    "X_train,X_test,y_train,y_test = train_test_total(X, y)\n",
    "cnn(conv_layers=3,conv_sizes=(32,32,32),fc_layers=2,fc_sizes=(512,256))"
   ]
  },
  {
   "cell_type": "code",
   "execution_count": 24,
   "metadata": {},
   "outputs": [
    {
     "name": "stdout",
     "output_type": "stream",
     "text": [
      "Train on 2508 samples, validate on 50 samples\n",
      "Epoch 1/10\n",
      "2508/2508 [==============================] - 49s 20ms/step - loss: 158.0848 - acc: 0.3106 - val_loss: 109.4643 - val_acc: 0.5200\n",
      "Epoch 2/10\n",
      "2508/2508 [==============================] - 45s 18ms/step - loss: 80.3029 - acc: 0.4131 - val_loss: 54.3876 - val_acc: 0.5200\n",
      "Epoch 3/10\n",
      "2508/2508 [==============================] - 45s 18ms/step - loss: 41.0698 - acc: 0.5602 - val_loss: 30.1598 - val_acc: 0.7200\n",
      "Epoch 4/10\n",
      "2508/2508 [==============================] - 45s 18ms/step - loss: 24.2116 - acc: 0.6886 - val_loss: 19.4223 - val_acc: 0.6600\n",
      "Epoch 5/10\n",
      "2508/2508 [==============================] - 45s 18ms/step - loss: 16.1872 - acc: 0.7432 - val_loss: 13.7145 - val_acc: 0.6000\n",
      "Epoch 6/10\n",
      "2508/2508 [==============================] - 44s 18ms/step - loss: 11.5097 - acc: 0.7986 - val_loss: 10.3072 - val_acc: 0.6000\n",
      "Epoch 7/10\n",
      "2508/2508 [==============================] - 44s 18ms/step - loss: 8.7966 - acc: 0.8022 - val_loss: 7.8374 - val_acc: 0.6000\n",
      "Epoch 8/10\n",
      "2508/2508 [==============================] - 44s 18ms/step - loss: 6.5980 - acc: 0.8210 - val_loss: 6.3237 - val_acc: 0.5800\n",
      "Epoch 9/10\n",
      "2508/2508 [==============================] - 44s 17ms/step - loss: 5.4243 - acc: 0.8194 - val_loss: 5.2683 - val_acc: 0.5800\n",
      "Epoch 10/10\n",
      "2508/2508 [==============================] - 43s 17ms/step - loss: 4.4708 - acc: 0.8118 - val_loss: 4.4200 - val_acc: 0.6000\n"
     ]
    }
   ],
   "source": [
    "X, y = import_data(every=True)\n",
    "X_train,X_test,y_train,y_test = train_test_subject(X, y)\n",
    "cnn(conv_layers=2,conv_sizes=(64,64),fc_layers=3,fc_sizes=(1024,512,256))"
   ]
  },
  {
   "cell_type": "code",
   "execution_count": 25,
   "metadata": {},
   "outputs": [
    {
     "name": "stdout",
     "output_type": "stream",
     "text": [
      "Train on 2508 samples, validate on 50 samples\n",
      "Epoch 1/10\n",
      "2508/2508 [==============================] - 96s 38ms/step - loss: 197.1471 - acc: 0.2911 - val_loss: 145.7357 - val_acc: 0.3800\n",
      "Epoch 2/10\n",
      "2508/2508 [==============================] - 89s 36ms/step - loss: 121.1017 - acc: 0.3939 - val_loss: 90.1208 - val_acc: 0.4800\n",
      "Epoch 3/10\n",
      "2508/2508 [==============================] - 90s 36ms/step - loss: 79.3099 - acc: 0.4737 - val_loss: 62.6111 - val_acc: 0.3800\n",
      "Epoch 4/10\n",
      "2508/2508 [==============================] - 89s 36ms/step - loss: 53.6940 - acc: 0.5331 - val_loss: 43.5380 - val_acc: 0.4400\n",
      "Epoch 5/10\n",
      "2508/2508 [==============================] - 89s 36ms/step - loss: 36.7957 - acc: 0.5873 - val_loss: 30.8730 - val_acc: 0.4600\n",
      "Epoch 6/10\n",
      "2508/2508 [==============================] - 89s 35ms/step - loss: 26.9699 - acc: 0.6667 - val_loss: 23.9219 - val_acc: 0.3600\n",
      "Epoch 7/10\n",
      "2508/2508 [==============================] - 89s 36ms/step - loss: 21.5121 - acc: 0.7077 - val_loss: 19.3855 - val_acc: 0.5600\n",
      "Epoch 8/10\n",
      "2508/2508 [==============================] - 90s 36ms/step - loss: 17.3414 - acc: 0.7241 - val_loss: 16.0026 - val_acc: 0.5200\n",
      "Epoch 9/10\n",
      "2508/2508 [==============================] - 90s 36ms/step - loss: 14.2302 - acc: 0.7253 - val_loss: 13.2791 - val_acc: 0.5800\n",
      "Epoch 10/10\n",
      "2508/2508 [==============================] - 90s 36ms/step - loss: 11.7977 - acc: 0.7488 - val_loss: 11.0693 - val_acc: 0.4800\n"
     ]
    }
   ],
   "source": [
    "X, y = import_data(every=True)\n",
    "X_train,X_test,y_train,y_test = train_test_subject(X, y)\n",
    "cnn(conv_layers=3,conv_sizes=(64,128,256),fc_layers=3,fc_sizes=(1024,512,256))"
   ]
  },
  {
   "cell_type": "code",
   "execution_count": 26,
   "metadata": {},
   "outputs": [
    {
     "name": "stdout",
     "output_type": "stream",
     "text": [
      "Train on 2508 samples, validate on 50 samples\n",
      "Epoch 1/10\n",
      "2508/2508 [==============================] - 48s 19ms/step - loss: 159.1160 - acc: 0.3118 - val_loss: 110.2807 - val_acc: 0.5000\n",
      "Epoch 2/10\n",
      "2508/2508 [==============================] - 43s 17ms/step - loss: 80.6130 - acc: 0.4394 - val_loss: 54.3468 - val_acc: 0.6400\n",
      "Epoch 3/10\n",
      "2508/2508 [==============================] - 44s 18ms/step - loss: 41.1975 - acc: 0.5781 - val_loss: 30.3475 - val_acc: 0.7000\n",
      "Epoch 4/10\n",
      "2508/2508 [==============================] - 43s 17ms/step - loss: 24.5231 - acc: 0.6599 - val_loss: 19.7199 - val_acc: 0.7200\n",
      "Epoch 5/10\n",
      "2508/2508 [==============================] - 44s 17ms/step - loss: 16.5594 - acc: 0.7376 - val_loss: 14.0093 - val_acc: 0.6800\n",
      "Epoch 6/10\n",
      "2508/2508 [==============================] - 43s 17ms/step - loss: 11.9342 - acc: 0.7791 - val_loss: 10.4729 - val_acc: 0.6600\n",
      "Epoch 7/10\n",
      "2508/2508 [==============================] - 44s 17ms/step - loss: 9.1621 - acc: 0.7943 - val_loss: 8.1274 - val_acc: 0.6000\n",
      "Epoch 8/10\n",
      "2508/2508 [==============================] - 43s 17ms/step - loss: 6.9878 - acc: 0.8110 - val_loss: 6.4638 - val_acc: 0.7000\n",
      "Epoch 9/10\n",
      "2508/2508 [==============================] - 43s 17ms/step - loss: 5.4142 - acc: 0.8321 - val_loss: 5.1936 - val_acc: 0.6800\n",
      "Epoch 10/10\n",
      "2508/2508 [==============================] - 44s 17ms/step - loss: 4.7463 - acc: 0.7939 - val_loss: 4.5666 - val_acc: 0.7400\n"
     ]
    }
   ],
   "source": [
    "X, y = import_data(every=True)\n",
    "X_train,X_test,y_train,y_test = train_test_total(X, y)\n",
    "cnn(conv_layers=2,conv_sizes=(64,64),fc_layers=3,fc_sizes=(1024,512,256))"
   ]
  },
  {
   "cell_type": "code",
   "execution_count": 28,
   "metadata": {},
   "outputs": [
    {
     "name": "stdout",
     "output_type": "stream",
     "text": [
      "Train on 2508 samples, validate on 50 samples\n",
      "Epoch 1/10\n",
      "2508/2508 [==============================] - 144s 57ms/step - loss: 123.4923 - acc: 0.2544 - val_loss: 68.2398 - val_acc: 0.2400\n",
      "Epoch 2/10\n",
      "2508/2508 [==============================] - 36s 14ms/step - loss: 49.9102 - acc: 0.2500 - val_loss: 36.3000 - val_acc: 0.2400\n",
      "Epoch 3/10\n",
      "2508/2508 [==============================] - 36s 15ms/step - loss: 29.8038 - acc: 0.2711 - val_loss: 24.2531 - val_acc: 0.3400\n",
      "Epoch 4/10\n",
      "2508/2508 [==============================] - 37s 15ms/step - loss: 20.7584 - acc: 0.2592 - val_loss: 17.4746 - val_acc: 0.2800\n",
      "Epoch 5/10\n",
      "2508/2508 [==============================] - 37s 15ms/step - loss: 15.2254 - acc: 0.2628 - val_loss: 13.0385 - val_acc: 0.2400\n",
      "Epoch 6/10\n",
      "2508/2508 [==============================] - 37s 15ms/step - loss: 11.4687 - acc: 0.2703 - val_loss: 9.9368 - val_acc: 0.2000\n",
      "Epoch 7/10\n",
      "2508/2508 [==============================] - 37s 15ms/step - loss: 8.8116 - acc: 0.2687 - val_loss: 7.7059 - val_acc: 0.4000\n",
      "Epoch 8/10\n",
      "2508/2508 [==============================] - 38s 15ms/step - loss: 6.8904 - acc: 0.2580 - val_loss: 6.0844 - val_acc: 0.2800\n",
      "Epoch 9/10\n",
      "2508/2508 [==============================] - 36s 14ms/step - loss: 5.4881 - acc: 0.2675 - val_loss: 4.8954 - val_acc: 0.4000\n",
      "Epoch 10/10\n",
      "2508/2508 [==============================] - 40s 16ms/step - loss: 4.4589 - acc: 0.2632 - val_loss: 4.0192 - val_acc: 0.2800\n"
     ]
    }
   ],
   "source": [
    "#Redefine CNN with the batchnorm commented \n",
    "# This is without batch norm\n",
    "X, y = import_data(every=False)\n",
    "X_train,X_test,y_train,y_test = train_test_total(X, y)\n",
    "cnn(conv_layers=2,conv_sizes=(64,64),fc_layers=3,fc_sizes=(1024,512,256))"
   ]
  },
  {
   "cell_type": "code",
   "execution_count": 29,
   "metadata": {},
   "outputs": [
    {
     "name": "stdout",
     "output_type": "stream",
     "text": [
      "Train on 2508 samples, validate on 50 samples\n",
      "Epoch 1/10\n",
      "2508/2508 [==============================] - 260s 104ms/step - loss: 122.0724 - acc: 0.2600 - val_loss: 64.7137 - val_acc: 0.4400\n",
      "Epoch 2/10\n",
      "2508/2508 [==============================] - 36s 14ms/step - loss: 46.6596 - acc: 0.2580 - val_loss: 33.4996 - val_acc: 0.4400\n",
      "Epoch 3/10\n",
      "2508/2508 [==============================] - 37s 15ms/step - loss: 27.3811 - acc: 0.2652 - val_loss: 22.1449 - val_acc: 0.3600\n",
      "Epoch 4/10\n",
      "2508/2508 [==============================] - 37s 15ms/step - loss: 18.8760 - acc: 0.2600 - val_loss: 15.8199 - val_acc: 0.1200\n",
      "Epoch 5/10\n",
      "2508/2508 [==============================] - 37s 15ms/step - loss: 13.7118 - acc: 0.2608 - val_loss: 11.6788 - val_acc: 0.1200\n",
      "Epoch 6/10\n",
      "2508/2508 [==============================] - 36s 14ms/step - loss: 10.2180 - acc: 0.2484 - val_loss: 8.8044 - val_acc: 0.2600\n",
      "Epoch 7/10\n",
      "2508/2508 [==============================] - 35s 14ms/step - loss: 7.7765 - acc: 0.2428 - val_loss: 6.7736 - val_acc: 0.1200\n",
      "Epoch 8/10\n",
      "2508/2508 [==============================] - 36s 14ms/step - loss: 6.0369 - acc: 0.2512 - val_loss: 5.3236 - val_acc: 0.2400\n",
      "Epoch 9/10\n",
      "2508/2508 [==============================] - 37s 15ms/step - loss: 4.7896 - acc: 0.2596 - val_loss: 4.2740 - val_acc: 0.2600\n",
      "Epoch 10/10\n",
      "2508/2508 [==============================] - 37s 15ms/step - loss: 3.8890 - acc: 0.2408 - val_loss: 3.5150 - val_acc: 0.1200\n"
     ]
    }
   ],
   "source": [
    "#Redefine CNN with the batchnorm commented \n",
    "# This is without batch norm\n",
    "X, y = import_data(every=False)\n",
    "X_train,X_test,y_train,y_test = train_test_subject(X, y)\n",
    "cnn(conv_layers=2,conv_sizes=(64,64),fc_layers=3,fc_sizes=(1024,512,256))"
   ]
  },
  {
   "cell_type": "code",
   "execution_count": 5,
   "metadata": {},
   "outputs": [],
   "source": [
    "import matplotlib.pyplot as plt\n",
    "def cnn_plot(conv_layers=3,conv_sizes=(64,128,256),filter_size=3, fc_layers=2,fc_sizes=(4096,2048),\n",
    "        dropout=0.5,pool_size=2,init='he_uniform',act='relu',optim='adam',pool=True,\n",
    "        reg = reg.l2(0.05),epochs=10):\n",
    "\n",
    "    classifier = Sequential()\n",
    "    for i in range(conv_layers):\n",
    "        classifier.add(Conv1D(conv_sizes[i], filter_size, input_shape = X_train.shape[1:],\n",
    "                              activation = act,kernel_initializer=init,kernel_regularizer=reg))\n",
    "        classifier.add(BatchNormalization())\n",
    "        if pool:\n",
    "            classifier.add(MaxPooling1D(pool_size = 2))\n",
    "    classifier.add(Flatten())\n",
    "    for j in range(fc_layers):\n",
    "        classifier.add(Dense(fc_sizes[j], activation = act,kernel_initializer=init,kernel_regularizer=reg))\n",
    "        classifier.add(Dropout(dropout))\n",
    "    classifier.add(Dense(4, activation = 'softmax',kernel_initializer=init))\n",
    "    classifier.compile(optimizer = optim, loss = 'sparse_categorical_crossentropy', metrics = ['accuracy'])\n",
    "    history = classifier.fit(X_train, y_train, validation_data=(X_test,y_test),epochs=epochs,batch_size=64)\n",
    "    \n",
    "    plt.plot(history.history['acc'])\n",
    "    plt.plot(history.history['val_acc'])\n",
    "    plt.title('Model accuracy')\n",
    "    plt.ylabel('Accuracy')\n",
    "    plt.xlabel('Epoch')\n",
    "    plt.legend(['Train', 'Test'], loc='upper left')\n",
    "    plt.show()\n",
    "\n",
    "    plt.plot(history.history['loss'])\n",
    "    plt.plot(history.history['val_loss'])\n",
    "    plt.title('Model loss')\n",
    "    plt.ylabel('Loss')\n",
    "    plt.xlabel('Epoch')\n",
    "    plt.legend(['Train', 'Test'], loc='upper left')\n",
    "    plt.show()"
   ]
  },
  {
   "cell_type": "code",
   "execution_count": 7,
   "metadata": {},
   "outputs": [
    {
     "name": "stdout",
     "output_type": "stream",
     "text": [
      "WARNING:tensorflow:From C:\\Users\\Sajeed\\Anaconda3\\lib\\site-packages\\tensorflow\\python\\util\\deprecation.py:497: calling conv1d (from tensorflow.python.ops.nn_ops) with data_format=NHWC is deprecated and will be removed in a future version.\n",
      "Instructions for updating:\n",
      "`NHWC` for data_format is deprecated, use `NWC` instead\n",
      "Train on 2508 samples, validate on 50 samples\n",
      "Epoch 1/10\n",
      "2508/2508 [==============================] - 56s 22ms/step - loss: 162.8385 - acc: 0.2663 - val_loss: 115.5292 - val_acc: 0.3200\n",
      "Epoch 2/10\n",
      "2508/2508 [==============================] - 53s 21ms/step - loss: 87.2221 - acc: 0.3038 - val_loss: 60.4795 - val_acc: 0.3200\n",
      "Epoch 3/10\n",
      "2508/2508 [==============================] - 55s 22ms/step - loss: 46.0319 - acc: 0.3437 - val_loss: 33.9589 - val_acc: 0.3600\n",
      "Epoch 4/10\n",
      "2508/2508 [==============================] - 54s 22ms/step - loss: 27.5551 - acc: 0.4075 - val_loss: 22.0934 - val_acc: 0.4200\n",
      "Epoch 5/10\n",
      "2508/2508 [==============================] - 54s 21ms/step - loss: 18.7652 - acc: 0.4896 - val_loss: 15.9906 - val_acc: 0.4600\n",
      "Epoch 6/10\n",
      "2508/2508 [==============================] - 54s 21ms/step - loss: 13.8122 - acc: 0.5638 - val_loss: 12.1956 - val_acc: 0.4400\n",
      "Epoch 7/10\n",
      "2508/2508 [==============================] - 54s 21ms/step - loss: 10.4731 - acc: 0.6579 - val_loss: 9.7963 - val_acc: 0.4000\n",
      "Epoch 8/10\n",
      "2508/2508 [==============================] - 52s 21ms/step - loss: 8.3173 - acc: 0.6898 - val_loss: 7.9010 - val_acc: 0.4600\n",
      "Epoch 9/10\n",
      "2508/2508 [==============================] - 52s 21ms/step - loss: 6.9198 - acc: 0.7073 - val_loss: 6.8540 - val_acc: 0.4200\n",
      "Epoch 10/10\n",
      "2508/2508 [==============================] - 51s 20ms/step - loss: 5.8670 - acc: 0.7026 - val_loss: 5.6865 - val_acc: 0.5800\n"
     ]
    },
    {
     "data": {
      "image/png": "[encoded data removed]",
      "text/plain": [
       "<matplotlib.figure.Figure at 0x135bf831cf8>"
      ]
     },
     "metadata": {},
     "output_type": "display_data"
    },
    {
     "data": {
      "image/png": "[encoded data removed]",
      "text/plain": [
       "<matplotlib.figure.Figure at 0x135d9c94860>"
      ]
     },
     "metadata": {},
     "output_type": "display_data"
    }
   ],
   "source": [
    "X, y = import_data(every=False)\n",
    "X_train,X_test,y_train,y_test = train_test_total(X, y)\n",
    "cnn_plot(conv_layers=2,conv_sizes=(64,64),fc_layers=3,fc_sizes=(1024,512,256))"
   ]
  },
  {
   "cell_type": "code",
   "execution_count": 9,
   "metadata": {},
   "outputs": [
    {
     "name": "stdout",
     "output_type": "stream",
     "text": [
      "Train on 2508 samples, validate on 50 samples\n",
      "Epoch 1/30\n",
      "2508/2508 [==============================] - 19s 8ms/step - loss: 68.6009 - acc: 0.2771 - val_loss: 46.1892 - val_acc: 0.4600\n",
      "Epoch 2/30\n",
      "2508/2508 [==============================] - 17s 7ms/step - loss: 32.6494 - acc: 0.3975 - val_loss: 21.4713 - val_acc: 0.5000\n",
      "Epoch 3/30\n",
      "2508/2508 [==============================] - 16s 7ms/step - loss: 16.1396 - acc: 0.4852 - val_loss: 11.9447 - val_acc: 0.5400\n",
      "Epoch 4/30\n",
      "2508/2508 [==============================] - 17s 7ms/step - loss: 9.7183 - acc: 0.5993 - val_loss: 8.1069 - val_acc: 0.5400\n",
      "Epoch 5/30\n",
      "2508/2508 [==============================] - 17s 7ms/step - loss: 6.7585 - acc: 0.6722 - val_loss: 6.2482 - val_acc: 0.5000\n",
      "Epoch 6/30\n",
      "2508/2508 [==============================] - 17s 7ms/step - loss: 5.2298 - acc: 0.7213 - val_loss: 5.2076 - val_acc: 0.4000\n",
      "Epoch 7/30\n",
      "2508/2508 [==============================] - 17s 7ms/step - loss: 4.3045 - acc: 0.7751 - val_loss: 4.5522 - val_acc: 0.4000\n",
      "Epoch 8/30\n",
      "2508/2508 [==============================] - 17s 7ms/step - loss: 3.6639 - acc: 0.7787 - val_loss: 4.1408 - val_acc: 0.3800\n",
      "Epoch 9/30\n",
      "2508/2508 [==============================] - 17s 7ms/step - loss: 3.2005 - acc: 0.8146 - val_loss: 3.5901 - val_acc: 0.5400\n",
      "Epoch 10/30\n",
      "2508/2508 [==============================] - 18s 7ms/step - loss: 2.8322 - acc: 0.8114 - val_loss: 3.3624 - val_acc: 0.4400\n",
      "Epoch 11/30\n",
      "2508/2508 [==============================] - 18s 7ms/step - loss: 2.6543 - acc: 0.8190 - val_loss: 3.1811 - val_acc: 0.4600\n",
      "Epoch 12/30\n",
      "2508/2508 [==============================] - 17s 7ms/step - loss: 2.5380 - acc: 0.8098 - val_loss: 3.1378 - val_acc: 0.5200\n",
      "Epoch 13/30\n",
      "2508/2508 [==============================] - 18s 7ms/step - loss: 2.4978 - acc: 0.8194 - val_loss: 3.1212 - val_acc: 0.5000\n",
      "Epoch 14/30\n",
      "2508/2508 [==============================] - 19s 8ms/step - loss: 2.3844 - acc: 0.8250 - val_loss: 2.8716 - val_acc: 0.5600\n",
      "Epoch 15/30\n",
      "2508/2508 [==============================] - 19s 8ms/step - loss: 2.2238 - acc: 0.8373 - val_loss: 2.6828 - val_acc: 0.6000\n",
      "Epoch 16/30\n",
      "2508/2508 [==============================] - 19s 8ms/step - loss: 2.2025 - acc: 0.8226 - val_loss: 2.6617 - val_acc: 0.5800\n",
      "Epoch 17/30\n",
      "2508/2508 [==============================] - 18s 7ms/step - loss: 2.2733 - acc: 0.8214 - val_loss: 2.8089 - val_acc: 0.5400\n",
      "Epoch 18/30\n",
      "2508/2508 [==============================] - 18s 7ms/step - loss: 2.1470 - acc: 0.8377 - val_loss: 2.4024 - val_acc: 0.6800\n",
      "Epoch 19/30\n",
      "2508/2508 [==============================] - 18s 7ms/step - loss: 2.1129 - acc: 0.8329 - val_loss: 2.7050 - val_acc: 0.5800\n",
      "Epoch 20/30\n",
      "2508/2508 [==============================] - 18s 7ms/step - loss: 1.9900 - acc: 0.8545 - val_loss: 2.6436 - val_acc: 0.5400\n",
      "Epoch 21/30\n",
      "2508/2508 [==============================] - 17s 7ms/step - loss: 1.9820 - acc: 0.8457 - val_loss: 2.4316 - val_acc: 0.6000\n",
      "Epoch 22/30\n",
      "2508/2508 [==============================] - 17s 7ms/step - loss: 2.1561 - acc: 0.8166 - val_loss: 2.8614 - val_acc: 0.5800\n",
      "Epoch 23/30\n",
      "2508/2508 [==============================] - 17s 7ms/step - loss: 2.0589 - acc: 0.8501 - val_loss: 2.5814 - val_acc: 0.5400\n",
      "Epoch 24/30\n",
      "2508/2508 [==============================] - 17s 7ms/step - loss: 1.9550 - acc: 0.8541 - val_loss: 2.4483 - val_acc: 0.6200\n",
      "Epoch 25/30\n",
      "2508/2508 [==============================] - 17s 7ms/step - loss: 1.9118 - acc: 0.8541 - val_loss: 2.3862 - val_acc: 0.7200\n",
      "Epoch 26/30\n",
      "2508/2508 [==============================] - 17s 7ms/step - loss: 1.9925 - acc: 0.8509 - val_loss: 2.5145 - val_acc: 0.6800\n",
      "Epoch 27/30\n",
      "2508/2508 [==============================] - 16s 7ms/step - loss: 1.8296 - acc: 0.8816 - val_loss: 2.4237 - val_acc: 0.6200\n",
      "Epoch 28/30\n",
      "2508/2508 [==============================] - 17s 7ms/step - loss: 1.7872 - acc: 0.8728 - val_loss: 2.5265 - val_acc: 0.6000\n",
      "Epoch 29/30\n",
      "2508/2508 [==============================] - 17s 7ms/step - loss: 1.8823 - acc: 0.8656 - val_loss: 2.5070 - val_acc: 0.6000\n",
      "Epoch 30/30\n",
      "2508/2508 [==============================] - 16s 6ms/step - loss: 1.9588 - acc: 0.8525 - val_loss: 2.6926 - val_acc: 0.6000\n"
     ]
    },
    {
     "data": {
      "image/png": "[encoded data removed]",
      "text/plain": [
       "<matplotlib.figure.Figure at 0x135818ed8d0>"
      ]
     },
     "metadata": {},
     "output_type": "display_data"
    },
    {
     "data": {
      "image/png": "[encoded data removed]",
      "text/plain": [
       "<matplotlib.figure.Figure at 0x135897e1048>"
      ]
     },
     "metadata": {},
     "output_type": "display_data"
    }
   ],
   "source": [
    "X, y = import_data(every=False)\n",
    "X_train,X_test,y_train,y_test = train_test_total(X, y)\n",
    "cnn_plot(conv_layers=3,conv_sizes=(32,32,32),fc_layers=2,fc_sizes=(512,256),epochs=30)"
   ]
  },
  {
   "cell_type": "code",
   "execution_count": 11,
   "metadata": {},
   "outputs": [
    {
     "name": "stdout",
     "output_type": "stream",
     "text": [
      "Train on 2508 samples, validate on 50 samples\n",
      "Epoch 1/30\n",
      "2508/2508 [==============================] - 56s 22ms/step - loss: 160.6935 - acc: 0.2711 - val_loss: 114.0267 - val_acc: 0.2600\n",
      "Epoch 2/30\n",
      "2508/2508 [==============================] - 52s 21ms/step - loss: 83.3164 - acc: 0.3198 - val_loss: 56.1847 - val_acc: 0.3200\n",
      "Epoch 3/30\n",
      "2508/2508 [==============================] - 51s 20ms/step - loss: 42.3319 - acc: 0.3565 - val_loss: 30.9091 - val_acc: 0.2600\n",
      "Epoch 4/30\n",
      "2508/2508 [==============================] - 51s 20ms/step - loss: 24.8081 - acc: 0.4215 - val_loss: 19.6184 - val_acc: 0.3600\n",
      "Epoch 5/30\n",
      "2508/2508 [==============================] - 50s 20ms/step - loss: 16.4112 - acc: 0.5000 - val_loss: 13.6920 - val_acc: 0.5400\n",
      "Epoch 6/30\n",
      "2508/2508 [==============================] - 51s 20ms/step - loss: 11.6850 - acc: 0.5941 - val_loss: 10.1964 - val_acc: 0.4200\n",
      "Epoch 7/30\n",
      "2508/2508 [==============================] - 54s 22ms/step - loss: 8.8345 - acc: 0.6312 - val_loss: 8.0660 - val_acc: 0.3800\n",
      "Epoch 8/30\n",
      "2508/2508 [==============================] - 56s 22ms/step - loss: 6.8854 - acc: 0.6806 - val_loss: 6.5032 - val_acc: 0.5600\n",
      "Epoch 9/30\n",
      "2508/2508 [==============================] - 57s 23ms/step - loss: 5.6645 - acc: 0.7045 - val_loss: 5.4066 - val_acc: 0.5600\n",
      "Epoch 10/30\n",
      "2508/2508 [==============================] - 57s 23ms/step - loss: 4.8152 - acc: 0.7149 - val_loss: 4.8560 - val_acc: 0.3800\n",
      "Epoch 11/30\n",
      "2508/2508 [==============================] - 59s 23ms/step - loss: 4.0533 - acc: 0.7325 - val_loss: 4.0819 - val_acc: 0.5800\n",
      "Epoch 12/30\n",
      "2508/2508 [==============================] - 52s 21ms/step - loss: 3.8189 - acc: 0.7201 - val_loss: 4.2456 - val_acc: 0.4400\n",
      "Epoch 13/30\n",
      "2508/2508 [==============================] - 52s 21ms/step - loss: 3.3689 - acc: 0.7608 - val_loss: 3.7390 - val_acc: 0.4600\n",
      "Epoch 14/30\n",
      "2508/2508 [==============================] - 52s 21ms/step - loss: 3.4434 - acc: 0.7356 - val_loss: 3.7177 - val_acc: 0.4400\n",
      "Epoch 15/30\n",
      "2508/2508 [==============================] - 51s 20ms/step - loss: 3.2392 - acc: 0.7420 - val_loss: 3.4783 - val_acc: 0.5000\n",
      "Epoch 16/30\n",
      "2508/2508 [==============================] - 52s 21ms/step - loss: 3.0420 - acc: 0.7588 - val_loss: 3.6881 - val_acc: 0.4000\n",
      "Epoch 17/30\n",
      "2508/2508 [==============================] - 52s 21ms/step - loss: 3.2263 - acc: 0.7512 - val_loss: 3.4478 - val_acc: 0.5200\n",
      "Epoch 18/30\n",
      "2508/2508 [==============================] - 54s 21ms/step - loss: 3.2391 - acc: 0.7348 - val_loss: 3.5121 - val_acc: 0.5400\n",
      "Epoch 19/30\n",
      "2508/2508 [==============================] - 53s 21ms/step - loss: 3.1956 - acc: 0.7480 - val_loss: 3.6455 - val_acc: 0.5200\n",
      "Epoch 20/30\n",
      "2508/2508 [==============================] - 53s 21ms/step - loss: 3.2224 - acc: 0.7209 - val_loss: 3.4244 - val_acc: 0.4800\n",
      "Epoch 21/30\n",
      "2508/2508 [==============================] - 52s 21ms/step - loss: 2.8764 - acc: 0.7783 - val_loss: 3.4038 - val_acc: 0.5000\n",
      "Epoch 22/30\n",
      "2508/2508 [==============================] - 52s 21ms/step - loss: 3.4484 - acc: 0.7173 - val_loss: 3.6825 - val_acc: 0.5600\n",
      "Epoch 23/30\n",
      "2508/2508 [==============================] - 50s 20ms/step - loss: 3.1601 - acc: 0.7652 - val_loss: 3.8022 - val_acc: 0.3800\n",
      "Epoch 24/30\n",
      "2508/2508 [==============================] - 50s 20ms/step - loss: 3.0418 - acc: 0.7592 - val_loss: 3.4960 - val_acc: 0.5800\n",
      "Epoch 25/30\n",
      "2508/2508 [==============================] - 51s 20ms/step - loss: 3.1178 - acc: 0.7663 - val_loss: 3.6666 - val_acc: 0.4800\n",
      "Epoch 26/30\n",
      "2508/2508 [==============================] - 53s 21ms/step - loss: 2.9902 - acc: 0.7819 - val_loss: 3.3899 - val_acc: 0.6000\n",
      "Epoch 27/30\n",
      "2508/2508 [==============================] - 52s 21ms/step - loss: 2.9778 - acc: 0.7695 - val_loss: 3.6367 - val_acc: 0.4800\n",
      "Epoch 28/30\n",
      "2508/2508 [==============================] - 53s 21ms/step - loss: 3.0305 - acc: 0.7707 - val_loss: 3.6382 - val_acc: 0.4800\n",
      "Epoch 29/30\n",
      "2508/2508 [==============================] - 55s 22ms/step - loss: 2.9943 - acc: 0.7970 - val_loss: 3.8070 - val_acc: 0.5200\n",
      "Epoch 30/30\n",
      "2508/2508 [==============================] - 52s 21ms/step - loss: 3.3883 - acc: 0.7743 - val_loss: 3.6828 - val_acc: 0.5000\n"
     ]
    },
    {
     "data": {
      "image/png": "[encoded data removed]",
      "text/plain": [
       "<matplotlib.figure.Figure at 0x135a398b048>"
      ]
     },
     "metadata": {},
     "output_type": "display_data"
    },
    {
     "data": {
      "image/png": "[encoded data removed]",
      "text/plain": [
       "<matplotlib.figure.Figure at 0x135d8fce5c0>"
      ]
     },
     "metadata": {},
     "output_type": "display_data"
    }
   ],
   "source": [
    "X, y = import_data(every=False)\n",
    "X_train,X_test,y_train,y_test = train_test_total(X, y)\n",
    "cnn_plot(conv_layers=2,conv_sizes=(64,64),fc_layers=3,fc_sizes=(1024,512,256),epochs=30)"
   ]
  },
  {
   "cell_type": "code",
   "execution_count": 14,
   "metadata": {},
   "outputs": [
    {
     "name": "stdout",
     "output_type": "stream",
     "text": [
      "Train on 2508 samples, validate on 50 samples\n",
      "Epoch 1/10\n",
      "2508/2508 [==============================] - 152s 61ms/step - loss: 208.9493 - acc: 0.2791 - val_loss: 184.0629 - val_acc: 0.3000\n",
      "Epoch 2/10\n",
      "2508/2508 [==============================] - 132s 52ms/step - loss: 166.3484 - acc: 0.3274 - val_loss: 137.8191 - val_acc: 0.3800\n",
      "Epoch 3/10\n",
      "2508/2508 [==============================] - 132s 52ms/step - loss: 112.1459 - acc: 0.3888 - val_loss: 81.6859 - val_acc: 0.3400\n",
      "Epoch 4/10\n",
      "2508/2508 [==============================] - 145s 58ms/step - loss: 64.2647 - acc: 0.4358 - val_loss: 49.2729 - val_acc: 0.4200\n",
      "Epoch 5/10\n",
      "2508/2508 [==============================] - 163s 65ms/step - loss: 41.3984 - acc: 0.5295 - val_loss: 34.8703 - val_acc: 0.4200\n",
      "Epoch 6/10\n",
      "2508/2508 [==============================] - 153s 61ms/step - loss: 31.1896 - acc: 0.6400 - val_loss: 27.8777 - val_acc: 0.4800\n",
      "Epoch 7/10\n",
      "2508/2508 [==============================] - 158s 63ms/step - loss: 25.4837 - acc: 0.7253 - val_loss: 23.1985 - val_acc: 0.4400\n",
      "Epoch 8/10\n",
      "2508/2508 [==============================] - 166s 66ms/step - loss: 20.7144 - acc: 0.7564 - val_loss: 18.8759 - val_acc: 0.4000\n",
      "Epoch 9/10\n",
      "2508/2508 [==============================] - 158s 63ms/step - loss: 17.1391 - acc: 0.7532 - val_loss: 16.4067 - val_acc: 0.4000\n",
      "Epoch 10/10\n",
      "2508/2508 [==============================] - 155s 62ms/step - loss: 14.6354 - acc: 0.7428 - val_loss: 13.1537 - val_acc: 0.4800\n"
     ]
    }
   ],
   "source": [
    "X, y = import_data(every=False)\n",
    "X_train,X_test,y_train,y_test = train_test_total(X, y)\n",
    "cnn(conv_layers=2,conv_sizes=(64,64),fc_layers=3,fc_sizes=(1024,512,256),pool=False)"
   ]
  },
  {
   "cell_type": "code",
   "execution_count": 16,
   "metadata": {},
   "outputs": [
    {
     "name": "stdout",
     "output_type": "stream",
     "text": [
      "Train on 2508 samples, validate on 50 samples\n",
      "Epoch 1/10\n",
      "2508/2508 [==============================] - 56s 22ms/step - loss: 68.3354 - acc: 0.2468 - val_loss: 24.9286 - val_acc: 0.3200\n",
      "Epoch 2/10\n",
      "2508/2508 [==============================] - 51s 20ms/step - loss: 14.7737 - acc: 0.2520 - val_loss: 8.0611 - val_acc: 0.2000\n",
      "Epoch 3/10\n",
      "2508/2508 [==============================] - 51s 20ms/step - loss: 5.9058 - acc: 0.2496 - val_loss: 4.1839 - val_acc: 0.1800\n",
      "Epoch 4/10\n",
      "2508/2508 [==============================] - 51s 20ms/step - loss: 3.5096 - acc: 0.2524 - val_loss: 2.8369 - val_acc: 0.2000\n",
      "Epoch 5/10\n",
      "2508/2508 [==============================] - 52s 21ms/step - loss: 2.5876 - acc: 0.2269 - val_loss: 2.1879 - val_acc: 0.3200\n",
      "Epoch 6/10\n",
      "2508/2508 [==============================] - 50s 20ms/step - loss: 2.0925 - acc: 0.2600 - val_loss: 1.9001 - val_acc: 0.3200\n",
      "Epoch 7/10\n",
      "2508/2508 [==============================] - 50s 20ms/step - loss: 1.8314 - acc: 0.2376 - val_loss: 1.6745 - val_acc: 0.3200\n",
      "Epoch 8/10\n",
      "2508/2508 [==============================] - 50s 20ms/step - loss: 1.6781 - acc: 0.2608 - val_loss: 1.5600 - val_acc: 0.3000\n",
      "Epoch 9/10\n",
      "2508/2508 [==============================] - 51s 20ms/step - loss: 1.5961 - acc: 0.2444 - val_loss: 1.4859 - val_acc: 0.3000\n",
      "Epoch 10/10\n",
      "2508/2508 [==============================] - 51s 21ms/step - loss: 1.5404 - acc: 0.2556 - val_loss: 1.4570 - val_acc: 0.3200\n"
     ]
    }
   ],
   "source": [
    "X, y = import_data(every=False)\n",
    "X_train,X_test,y_train,y_test = train_test_total(X, y)\n",
    "cnn(conv_layers=2,conv_sizes=(64,64),fc_layers=3,fc_sizes=(1024,512,256),act='sigmoid')"
   ]
  },
  {
   "cell_type": "code",
   "execution_count": null,
   "metadata": {
    "collapsed": true
   },
   "outputs": [],
   "source": []
  }
 ],
 "metadata": {
  "anaconda-cloud": {},
  "kernelspec": {
   "display_name": "Python 3",
   "language": "python",
   "name": "python3"
  },
  "language_info": {
   "codemirror_mode": {
    "name": "ipython",
    "version": 3
   },
   "file_extension": ".py",
   "mimetype": "text/x-python",
   "name": "python",
   "nbconvert_exporter": "python",
   "pygments_lexer": "ipython3",
   "version": "3.6.3"
  }
 },
 "nbformat": 4,
 "nbformat_minor": 2
}
